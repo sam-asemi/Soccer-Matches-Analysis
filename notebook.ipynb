{
 "cells": [
  {
   "cell_type": "markdown",
   "id": "3ed0edb2-696b-49ab-9db0-681defcce695",
   "metadata": {},
   "source": [
    "![A soccer pitch for an international match.](soccer-pitch.jpg)\n",
    "\n",
    "An investigation was conducted to determine whether more goals are scored in women’s international soccer matches compared to men’s. The analysis focused on official FIFA World Cup matches (excluding qualifiers) played since January 1, 2002, to account for the evolving nature of the sport and variations across tournaments.\n",
    "\n",
    "Historical match data for men’s and women’s international soccer were collected from a reliable online source and organized into two datasets: women_results.csv and men_results.csv. A statistical hypothesis test was performed at a 10% significance level with the following hypotheses:\n",
    "\n",
    "Null Hypothesis ($H_0$): The mean number of goals scored in women’s matches is the same as in men’s matches.\n",
    "Alternative Hypothesis ($H_A$): The mean number of goals scored in women’s matches is greater than in men’s.\n",
    "\n",
    "The purpose of this project was to provide a data-driven analysis of scoring patterns in international soccer, offering insights that could engage soccer enthusiasts and enhance sports journalism."
   ]
  },
  {
   "cell_type": "code",
   "execution_count": 1,
   "id": "84a3c4c8-534b-4d1a-9919-17e05208b2ca",
   "metadata": {
    "executionCancelledAt": null,
    "executionTime": 378,
    "lastExecutedAt": 1722909768714,
    "lastExecutedByKernel": "d87057dc-7700-4a6d-b630-6ea62251e4d8",
    "lastScheduledRunId": null,
    "lastSuccessfullyExecutedCode": "# Start your code here!\nimport pandas as pd\nimport matplotlib.pyplot as plt\nfrom scipy.stats import mannwhitneyu\n\nmen_results = pd.read_csv('men_results.csv')\nwomen_results = pd.read_csv('women_results.csv')\n\nprint(men_results.info())\nprint(women_results.info())\n\n#print(men_results['tournament'].value_counts())\n#print(women_results['tournament'].value_counts())\n\nmen_worldcup = men_results[men_results['tournament'] == 'FIFA World Cup']\nwomen_worldcup = women_results[women_results['tournament'] == 'FIFA World Cup']\n\nmen_worldcup['date'] = pd.to_datetime(men_worldcup['date'])\nwomen_worldcup['date'] = pd.to_datetime(women_worldcup['date'])\n\nmen_worldcup = men_worldcup[men_worldcup['date'] > '2002-01-01']\nwomen_worldcup = women_worldcup[women_worldcup['date'] > '2002-01-01']\n\nmen_worldcup.head()\n\n#Determining the type of hypothesis test:Wilcoxon-Mann-Whitney\n#Determining if the data is normally distributed\nplt.hist([men_worldcup['home_score'], men_worldcup['away_score']], color=['blue', 'green'], label=['Men Home Score', 'Men Away Score'])\nplt.legend()\n\nplt.hist([women_worldcup['home_score'], women_worldcup['away_score']], color=['blue', 'green'], label=['Women Home Score', 'Women Away Score'])\nplt.legend()\n\nmen_women_worldcup = mannwhitneyu(x=women_worldcup['home_score'] + women_worldcup['away_score'], y=men_worldcup['home_score'] + men_worldcup['away_score'], alternative='greater')\n\np_val = men_women_worldcup.pvalue\n\nresult_dict = {\"p_val\": p_val, \"result\": \"reject\"}\n\nprint(result_dict)",
    "outputsMetadata": {
     "0": {
      "height": 497,
      "type": "stream"
     }
    }
   },
   "outputs": [
    {
     "name": "stdout",
     "output_type": "stream",
     "text": [
      "<class 'pandas.core.frame.DataFrame'>\n",
      "RangeIndex: 44353 entries, 0 to 44352\n",
      "Data columns (total 7 columns):\n",
      " #   Column      Non-Null Count  Dtype \n",
      "---  ------      --------------  ----- \n",
      " 0   Unnamed: 0  44353 non-null  int64 \n",
      " 1   date        44353 non-null  object\n",
      " 2   home_team   44353 non-null  object\n",
      " 3   away_team   44353 non-null  object\n",
      " 4   home_score  44353 non-null  int64 \n",
      " 5   away_score  44353 non-null  int64 \n",
      " 6   tournament  44353 non-null  object\n",
      "dtypes: int64(3), object(4)\n",
      "memory usage: 2.4+ MB\n",
      "None\n",
      "<class 'pandas.core.frame.DataFrame'>\n",
      "RangeIndex: 4884 entries, 0 to 4883\n",
      "Data columns (total 7 columns):\n",
      " #   Column      Non-Null Count  Dtype \n",
      "---  ------      --------------  ----- \n",
      " 0   Unnamed: 0  4884 non-null   int64 \n",
      " 1   date        4884 non-null   object\n",
      " 2   home_team   4884 non-null   object\n",
      " 3   away_team   4884 non-null   object\n",
      " 4   home_score  4884 non-null   int64 \n",
      " 5   away_score  4884 non-null   int64 \n",
      " 6   tournament  4884 non-null   object\n",
      "dtypes: int64(3), object(4)\n",
      "memory usage: 267.2+ KB\n",
      "None\n",
      "{'p_val': 0.0051066098254436395, 'result': 'reject'}\n"
     ]
    },
    {
     "name": "stderr",
     "output_type": "stream",
     "text": [
      "/var/folders/zy/s1ckvr7j4zqdbfy1pxp2ymhc0000gn/T/ipykernel_12022/471415777.py:18: SettingWithCopyWarning: \n",
      "A value is trying to be set on a copy of a slice from a DataFrame.\n",
      "Try using .loc[row_indexer,col_indexer] = value instead\n",
      "\n",
      "See the caveats in the documentation: https://pandas.pydata.org/pandas-docs/stable/user_guide/indexing.html#returning-a-view-versus-a-copy\n",
      "  men_worldcup['date'] = pd.to_datetime(men_worldcup['date'])\n",
      "/var/folders/zy/s1ckvr7j4zqdbfy1pxp2ymhc0000gn/T/ipykernel_12022/471415777.py:19: SettingWithCopyWarning: \n",
      "A value is trying to be set on a copy of a slice from a DataFrame.\n",
      "Try using .loc[row_indexer,col_indexer] = value instead\n",
      "\n",
      "See the caveats in the documentation: https://pandas.pydata.org/pandas-docs/stable/user_guide/indexing.html#returning-a-view-versus-a-copy\n",
      "  women_worldcup['date'] = pd.to_datetime(women_worldcup['date'])\n"
     ]
    },
    {
     "data": {
      "image/png": "[encoded data removed]",
      "text/plain": [
       "<Figure size 640x480 with 1 Axes>"
      ]
     },
     "metadata": {},
     "output_type": "display_data"
    }
   ],
   "source": [
    "# Start your code here!\n",
    "import pandas as pd\n",
    "import matplotlib.pyplot as plt\n",
    "from scipy.stats import mannwhitneyu\n",
    "\n",
    "men_results = pd.read_csv('men_results.csv')\n",
    "women_results = pd.read_csv('women_results.csv')\n",
    "\n",
    "print(men_results.info())\n",
    "print(women_results.info())\n",
    "\n",
    "#print(men_results['tournament'].value_counts())\n",
    "#print(women_results['tournament'].value_counts())\n",
    "\n",
    "men_worldcup = men_results[men_results['tournament'] == 'FIFA World Cup']\n",
    "women_worldcup = women_results[women_results['tournament'] == 'FIFA World Cup']\n",
    "\n",
    "men_worldcup['date'] = pd.to_datetime(men_worldcup['date'])\n",
    "women_worldcup['date'] = pd.to_datetime(women_worldcup['date'])\n",
    "\n",
    "men_worldcup = men_worldcup[men_worldcup['date'] > '2002-01-01']\n",
    "women_worldcup = women_worldcup[women_worldcup['date'] > '2002-01-01']\n",
    "\n",
    "men_worldcup.head()\n",
    "\n",
    "#Determining the type of hypothesis test:Wilcoxon-Mann-Whitney\n",
    "#Determining if the data is normally distributed\n",
    "plt.hist([men_worldcup['home_score'], men_worldcup['away_score']], color=['blue', 'green'], label=['Men Home Score', 'Men Away Score'])\n",
    "plt.legend()\n",
    "\n",
    "plt.hist([women_worldcup['home_score'], women_worldcup['away_score']], color=['blue', 'green'], label=['Women Home Score', 'Women Away Score'])\n",
    "plt.legend()\n",
    "\n",
    "men_women_worldcup = mannwhitneyu(x=women_worldcup['home_score'] + women_worldcup['away_score'], y=men_worldcup['home_score'] + men_worldcup['away_score'], alternative='greater')\n",
    "\n",
    "p_val = men_women_worldcup.pvalue\n",
    "\n",
    "result_dict = {\"p_val\": p_val, \"result\": \"reject\"}\n",
    "\n",
    "print(result_dict)"
   ]
  }
 ],
 "metadata": {
  "colab": {
   "name": "Welcome to DataCamp Workspaces.ipynb",
   "provenance": []
  },
  "kernelspec": {
   "display_name": "Python 3",
   "language": "python",
   "name": "python3"
  },
  "language_info": {
   "codemirror_mode": {
    "name": "ipython",
    "version": 3
   },
   "file_extension": ".py",
   "mimetype": "text/x-python",
   "name": "python",
   "nbconvert_exporter": "python",
   "pygments_lexer": "ipython3",
   "version": "3.11.4"
  }
 },
 "nbformat": 4,
 "nbformat_minor": 5
}
