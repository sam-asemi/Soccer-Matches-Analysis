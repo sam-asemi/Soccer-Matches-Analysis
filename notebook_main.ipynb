![A soccer pitch for an international match.](soccer-pitch.jpg)

An investigation was conducted to determine whether more goals are scored in women’s international soccer matches compared to men’s. The analysis focused on official FIFA World Cup matches (excluding qualifiers) played since January 1, 2002, to account for the evolving nature of the sport and variations across tournaments.

Historical match data for men’s and women’s international soccer were collected from a reliable online source and organized into two datasets: women_results.csv and men_results.csv. A statistical hypothesis test was performed at a 10% significance level with the following hypotheses:

Null Hypothesis ($H_0$): The mean number of goals scored in women’s matches is the same as in men’s matches.
Alternative Hypothesis ($H_A$): The mean number of goals scored in women’s matches is greater than in men’s.

The purpose of this project was to provide a data-driven analysis of scoring patterns in international soccer, offering insights that could engage soccer enthusiasts and enhance sports journalism.
