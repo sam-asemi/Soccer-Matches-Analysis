# Start your code here!
import pandas as pd
import matplotlib.pyplot as plt
from scipy.stats import mannwhitneyu

men_results = pd.read_csv('men_results.csv')
women_results = pd.read_csv('women_results.csv')

print(men_results.info())
print(women_results.info())

#print(men_results['tournament'].value_counts())
#print(women_results['tournament'].value_counts())

men_worldcup = men_results[men_results['tournament'] == 'FIFA World Cup']
women_worldcup = women_results[women_results['tournament'] == 'FIFA World Cup']

men_worldcup['date'] = pd.to_datetime(men_worldcup['date'])
women_worldcup['date'] = pd.to_datetime(women_worldcup['date'])

men_worldcup = men_worldcup[men_worldcup['date'] > '2002-01-01']
women_worldcup = women_worldcup[women_worldcup['date'] > '2002-01-01']

men_worldcup.head()

#Determining the type of hypothesis test:Wilcoxon-Mann-Whitney
#Determining if the data is normally distributed
plt.hist([men_worldcup['home_score'], men_worldcup['away_score']], color=['blue', 'green'], label=['Men Home Score', 'Men Away Score'])
plt.legend()

plt.hist([women_worldcup['home_score'], women_worldcup['away_score']], color=['blue', 'green'], label=['Women Home Score', 'Women Away Score'])
plt.legend()

men_women_worldcup = mannwhitneyu(x=women_worldcup['home_score'] + women_worldcup['away_score'], y=men_worldcup['home_score'] + men_worldcup['away_score'], alternative='greater')

p_val = men_women_worldcup.pvalue

result_dict = {"p_val": p_val, "result": "reject"}

print(result_dict)
